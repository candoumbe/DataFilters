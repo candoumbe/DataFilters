{
 "cells": [
  {
   "cell_type": "markdown",
   "metadata": {},
   "source": [
    "# DataFilters\n",
    "\n",
    "[![GitHub Workflow Status (main)](https://img.shields.io/github/workflow/status/candoumbe/datafilters/delivery/main?label=main)](https://github.com/candoumbe/DataFilters/actions/workflows/delivery.yml)\n",
    "[![GitHub Workflow Status (develop)](https://img.shields.io/github/workflow/status/candoumbe/datafilters/integration/develop?label=develop)](https://github.com/candoumbe/DataFilters/actions/workflows/delivery.yml)\n",
    "[![codecov](https://codecov.io/gh/candoumbe/DataFilters/branch/develop/graph/badge.svg?token=FHSC41A4X3)](https://codecov.io/gh/candoumbe/DataFilters)\n",
    "[![GitHub raw issues](https://img.shields.io/github/issues-raw/candoumbe/datafilters)](https://github.com/candoumbe/datafilters/issues)\n",
    "[![Nuget](https://img.shields.io/nuget/vpre/datafilters)](https://nuget.org/packages/datafilters)\n",
    "\n",
    "A small library that allow to convert a string to a generic [`IFilter`][class-ifilter] object.\n",
    "Highly inspired by the elastic query syntax, it offers a powerful way to build and query data with a syntax that's not bound to a peculiar datasource."
   ]
  },
  {
   "cell_type": "code",
   "execution_count": null,
   "metadata": {
    "dotnet_interactive": {
     "language": "csharp"
    },
    "polyglot_notebook": {
     "kernelName": "csharp"
    }
   },
   "outputs": [],
   "source": [
    "// Gets the latest version \n",
    "#r \"nuget:DataFilters\" \n",
    "\n",
    "using DataFilters;"
   ]
  },
  {
   "cell_type": "markdown",
   "metadata": {},
   "source": [
    "Let's say we have an API to manage some DC comics data.\n",
    "The API outputs the following JSON\n",
    "\n",
    "```json\n",
    "{\n",
    "  \"id\": \"vigilante_root\",\n",
    "  \"title\": \"Vigilante\",\n",
    "  \"type\": \"object\",\n",
    "  \"properties\": {\n",
    "    \"firstname\": {\n",
    "      \"required\": true,\n",
    "      \"type\": \"string\"\n",
    "    },\n",
    "    \"lastname\": {\n",
    "      \"required\": true,\n",
    "      \"type\": \"string\"\n",
    "    },\n",
    "    \"nickname\": {\n",
    "      \"required\": true,\n",
    "      \"type\": \"string\"\n",
    "    },\n",
    "    \"age\": {\n",
    "      \"required\": true,\n",
    "      \"type\": \"integer\"\n",
    "    },\n",
    "    \"firstReleasedOn\" : {\n",
    "        \"type\": \"string\",\n",
    "        \"format\": \"date\"\n",
    "    }\n",
    "    \"description\": {\n",
    "      \"required\": true,\n",
    "      \"type\": \"string\"\n",
    "    },\n",
    "    \"powers\": {\n",
    "      \"required\": true,\n",
    "      \"type\": \"array\",\n",
    "      \"items\": {\n",
    "        \"type\": \"string\"\n",
    "      }\n",
    "    },\n",
    "    \"acolytes\": {\n",
    "      \"required\": true,\n",
    "      \"type\": \"array\",\n",
    "      \"items\": {\n",
    "        \"$ref\": \"vigilante_root\"\n",
    "      }\n",
    "    }\n",
    "  }\n",
    "}"
   ]
  },
  {
   "cell_type": "code",
   "execution_count": 117,
   "metadata": {
    "dotnet_interactive": {
     "language": "csharp"
    },
    "polyglot_notebook": {
     "kernelName": "csharp"
    }
   },
   "outputs": [],
   "source": [
    "public class Vigilante\n",
    "{\n",
    "    public string Firstname { get; set; }\n",
    "    public string Lastname { get; set; }\n",
    "    public string Nickname {get; set; }\n",
    "    public int Age { get; set; }\n",
    "    public string Description {get; set;}\n",
    "    public DateTime? FirstReleasedOn {get; set; }\n",
    "    public IEnumerable<string> Weapons {get; set; }\n",
    "    public IEnumerable<string> Powers {get; set;}\n",
    "    public IEnumerable<Vigilante> Acolytes {get; set;}\n",
    "\n",
    "    public override string ToString() => $\"{Firstname} {Lastname} (A.K.A '{Nickname}')\";\n",
    "};"
   ]
  },
  {
   "cell_type": "markdown",
   "metadata": {},
   "source": [
    "### Let's build ourself a **Justice** league"
   ]
  },
  {
   "cell_type": "code",
   "execution_count": 119,
   "metadata": {
    "dotnet_interactive": {
     "language": "csharp"
    },
    "polyglot_notebook": {
     "kernelName": "csharp"
    }
   },
   "outputs": [
    {
     "data": {
      "text/html": [
       "<div><div></div><div></div><div><strong>Installed Packages</strong><ul><li><span>Humanizer, 2.14.1</span></li></ul></div></div>"
      ]
     },
     "metadata": {},
     "output_type": "display_data"
    },
    {
     "data": {
      "text/html": [
       "<table><thead><tr><th><i>index</i></th><th>value</th></tr></thead><tbody><tr><td>0</td><td><details class=\"dni-treeview\"><summary><span class=\"dni-code-hint\"><code>Bruce Wayne (A.K.A &#39;Batman&#39;)</code></span></summary><div><table><thead><tr></tr></thead><tbody><tr><td>Firstname</td><td><div class=\"dni-plaintext\"><pre>Bruce</pre></div></td></tr><tr><td>Lastname</td><td><div class=\"dni-plaintext\"><pre>Wayne</pre></div></td></tr><tr><td>Nickname</td><td><div class=\"dni-plaintext\"><pre>Batman</pre></div></td></tr><tr><td>Age</td><td><div class=\"dni-plaintext\"><pre>40</pre></div></td></tr><tr><td>Description</td><td><div class=\"dni-plaintext\"><pre>&lt;null&gt;</pre></div></td></tr><tr><td>FirstReleasedOn</td><td><span>1939-03-30 00:00:00Z</span></td></tr><tr><td>Weapons</td><td><div class=\"dni-plaintext\"><pre>[ batarangs ]</pre></div></td></tr><tr><td>Powers</td><td><div class=\"dni-plaintext\"><pre>&lt;null&gt;</pre></div></td></tr><tr><td>Acolytes</td><td><table><thead><tr><th><i>index</i></th><th>value</th></tr></thead><tbody><tr><td>0</td><td><details class=\"dni-treeview\"><summary><span class=\"dni-code-hint\"><code>Dick Grayson (A.K.A &#39;Robin&#39;)</code></span></summary><div><table><thead><tr></tr></thead><tbody><tr><td>Firstname</td><td><div class=\"dni-plaintext\"><pre>Dick</pre></div></td></tr><tr><td>Lastname</td><td><div class=\"dni-plaintext\"><pre>Grayson</pre></div></td></tr><tr><td>Nickname</td><td><div class=\"dni-plaintext\"><pre>Robin</pre></div></td></tr><tr><td>Age</td><td><div class=\"dni-plaintext\"><pre>15</pre></div></td></tr><tr><td>Description</td><td><div class=\"dni-plaintext\"><pre>&lt;null&gt;</pre></div></td></tr><tr><td>FirstReleasedOn</td><td><div class=\"dni-plaintext\"><pre>&lt;null&gt;</pre></div></td></tr><tr><td>Weapons</td><td><div class=\"dni-plaintext\"><pre>[ long stick ]</pre></div></td></tr><tr><td>Powers</td><td><div class=\"dni-plaintext\"><pre>&lt;null&gt;</pre></div></td></tr><tr><td>Acolytes</td><td><div class=\"dni-plaintext\"><pre>&lt;null&gt;</pre></div></td></tr></tbody></table></div></details></td></tr><tr><td>1</td><td><details class=\"dni-treeview\"><summary><span class=\"dni-code-hint\"><code>Dick Grayson (A.K.A &#39;Nightwing&#39;)</code></span></summary><div><table><thead><tr></tr></thead><tbody><tr><td>Firstname</td><td><div class=\"dni-plaintext\"><pre>Dick</pre></div></td></tr><tr><td>Lastname</td><td><div class=\"dni-plaintext\"><pre>Grayson</pre></div></td></tr><tr><td>Nickname</td><td><div class=\"dni-plaintext\"><pre>Nightwing</pre></div></td></tr><tr><td>Age</td><td><div class=\"dni-plaintext\"><pre>28</pre></div></td></tr><tr><td>Description</td><td><div class=\"dni-plaintext\"><pre>&lt;null&gt;</pre></div></td></tr><tr><td>FirstReleasedOn</td><td><div class=\"dni-plaintext\"><pre>&lt;null&gt;</pre></div></td></tr><tr><td>Weapons</td><td><div class=\"dni-plaintext\"><pre>[ Tonfa, Bolas ]</pre></div></td></tr><tr><td>Powers</td><td><div class=\"dni-plaintext\"><pre>&lt;null&gt;</pre></div></td></tr><tr><td>Acolytes</td><td><div class=\"dni-plaintext\"><pre>&lt;null&gt;</pre></div></td></tr></tbody></table></div></details></td></tr></tbody></table></td></tr></tbody></table></div></details></td></tr><tr><td>1</td><td><details class=\"dni-treeview\"><summary><span class=\"dni-code-hint\"><code>Clark Kent (A.K.A &#39;Superman&#39;)</code></span></summary><div><table><thead><tr></tr></thead><tbody><tr><td>Firstname</td><td><div class=\"dni-plaintext\"><pre>Clark</pre></div></td></tr><tr><td>Lastname</td><td><div class=\"dni-plaintext\"><pre>Kent</pre></div></td></tr><tr><td>Nickname</td><td><div class=\"dni-plaintext\"><pre>Superman</pre></div></td></tr><tr><td>Age</td><td><div class=\"dni-plaintext\"><pre>35</pre></div></td></tr><tr><td>Description</td><td><div class=\"dni-plaintext\"><pre>&lt;null&gt;</pre></div></td></tr><tr><td>FirstReleasedOn</td><td><div class=\"dni-plaintext\"><pre>&lt;null&gt;</pre></div></td></tr><tr><td>Weapons</td><td><div class=\"dni-plaintext\"><pre>&lt;null&gt;</pre></div></td></tr><tr><td>Powers</td><td><div class=\"dni-plaintext\"><pre>[ super strength, heat vison, no shame when wearing a red underwear ]</pre></div></td></tr><tr><td>Acolytes</td><td><div class=\"dni-plaintext\"><pre>&lt;null&gt;</pre></div></td></tr></tbody></table></div></details></td></tr><tr><td>2</td><td><details class=\"dni-treeview\"><summary><span class=\"dni-code-hint\"><code>Diana Prince (A.K.A &#39;Wonder Woman&#39;)</code></span></summary><div><table><thead><tr></tr></thead><tbody><tr><td>Firstname</td><td><div class=\"dni-plaintext\"><pre>Diana</pre></div></td></tr><tr><td>Lastname</td><td><div class=\"dni-plaintext\"><pre>Prince</pre></div></td></tr><tr><td>Nickname</td><td><div class=\"dni-plaintext\"><pre>Wonder Woman</pre></div></td></tr><tr><td>Age</td><td><div class=\"dni-plaintext\"><pre>0</pre></div></td></tr><tr><td>Description</td><td><div class=\"dni-plaintext\"><pre>&lt;null&gt;</pre></div></td></tr><tr><td>FirstReleasedOn</td><td><span>1941-10-01 00:00:00Z</span></td></tr><tr><td>Weapons</td><td><div class=\"dni-plaintext\"><pre>&lt;null&gt;</pre></div></td></tr><tr><td>Powers</td><td><div class=\"dni-plaintext\"><pre>[ super strength, never backdown ]</pre></div></td></tr><tr><td>Acolytes</td><td><div class=\"dni-plaintext\"><pre>&lt;null&gt;</pre></div></td></tr></tbody></table></div></details></td></tr></tbody></table><style>\r\n",
       ".dni-code-hint {\r\n",
       "    font-style: italic;\r\n",
       "    overflow: hidden;\r\n",
       "    white-space: nowrap;\r\n",
       "}\r\n",
       ".dni-treeview {\r\n",
       "    white-space: nowrap;\r\n",
       "}\r\n",
       ".dni-treeview td {\r\n",
       "    vertical-align: top;\r\n",
       "    text-align: start;\r\n",
       "}\r\n",
       "details.dni-treeview {\r\n",
       "    padding-left: 1em;\r\n",
       "}\r\n",
       "table td {\r\n",
       "    text-align: start;\r\n",
       "}\r\n",
       "table tr { \r\n",
       "    vertical-align: top; \r\n",
       "    margin: 0em 0px;\r\n",
       "}\r\n",
       "table tr td pre \r\n",
       "{ \r\n",
       "    vertical-align: top !important; \r\n",
       "    margin: 0em 0px !important;\r\n",
       "} \r\n",
       "table th {\r\n",
       "    text-align: start;\r\n",
       "}\r\n",
       "</style>"
      ]
     },
     "metadata": {},
     "output_type": "display_data"
    }
   ],
   "source": [
    "#r \"nuget:Humanizer\"\n",
    "\n",
    "using System.Text.Json;\n",
    "using System.Text.Json.Serialization;\n",
    "\n",
    "Vigilante robin = new () \n",
    "{\n",
    "    Firstname = \"Dick\",\n",
    "    Lastname = \"Grayson\",\n",
    "    Nickname = \"Robin\",\n",
    "    Age = 15,\n",
    "    Weapons = new [] { \"long stick\" }\n",
    "};\n",
    "\n",
    "Vigilante nightwing = new () \n",
    "{\n",
    "    Firstname = \"Dick\",\n",
    "    Lastname = \"Grayson\",\n",
    "    Nickname = \"Nightwing\",\n",
    "    Age = 28,\n",
    "    Weapons = new [] { \"Tonfa\", \"Bolas\" }\n",
    "};\n",
    "\n",
    "Vigilante batman = new () \n",
    "{\n",
    "    Firstname = \"Bruce\",\n",
    "    Lastname = \"Wayne\",\n",
    "    Nickname = \"Batman\",\n",
    "    FirstReleasedOn = On.March.The30th.In(1939),\n",
    "    Age = 40,\n",
    "    Weapons = new [] { \"batarangs\" },\n",
    "    Acolytes = new []\n",
    "    {\n",
    "        robin,\n",
    "        nightwing\n",
    "    }\n",
    "};\n",
    "\n",
    "Vigilante superman = new () \n",
    "{\n",
    "    Firstname = \"Clark\",\n",
    "    Lastname = \"Kent\",\n",
    "    Nickname = \"Superman\",\n",
    "    Age = 35,\n",
    "    Powers = new []\n",
    "    {\n",
    "        \"super strength\",\n",
    "        \"heat vison\",\n",
    "        \"no shame when wearing a red underwear\"\n",
    "    }\n",
    "};\n",
    "\n",
    "Vigilante wonderWoman = new () \n",
    "{\n",
    "    Firstname = \"Diana\",\n",
    "    Lastname = \"Prince\",\n",
    "    Nickname = \"Wonder Woman\",\n",
    "    FirstReleasedOn = In.OctoberOf(1941),\n",
    "    Powers = new []{ \"super strength\", \"never backdown\" }\n",
    "};\n",
    "\n",
    "IReadOnlyCollection<Vigilante> justiceLeague = new []{ batman, superman, wonderWoman };\n",
    "JsonSerializerOptions jsonSerializerOptions = new ()\n",
    "{\n",
    "    DefaultIgnoreCondition = JsonIgnoreCondition.WhenWritingDefault,\n",
    "    WriteIndented = true\n",
    "};\n",
    "\n",
    "justiceLeague"
   ]
  },
  {
   "cell_type": "markdown",
   "metadata": {},
   "source": [
    "## The syntax"
   ]
  },
  {
   "cell_type": "markdown",
   "metadata": {},
   "source": [
    "### Equals"
   ]
  },
  {
   "cell_type": "code",
   "execution_count": null,
   "metadata": {
    "dotnet_interactive": {
     "language": "csharp"
    },
    "polyglot_notebook": {
     "kernelName": "csharp"
    }
   },
   "outputs": [],
   "source": [
    "#r \"nuget:DataFilters.Expressions, 0.12.0\"\n",
    "\n",
    "using DataFilters.Expressions;\n",
    "\n",
    "string nicknameIsBatmanQueryString = \"Nickname=batman\";\n",
    "IFilter nicknameIsBatmanFilter = nicknameIsBatmanQueryString.ToFilter<Vigilante>();\n",
    "\n",
    "Console.WriteLine(nicknameIsBatmanQueryString.ToFilter<Vigilante>());\n",
    "Console.WriteLine($\"C# Expression : {nicknameIsBatmanFilter.ToExpression<Vigilante>()}\");"
   ]
  },
  {
   "cell_type": "markdown",
   "metadata": {},
   "source": [
    "### Starts with"
   ]
  },
  {
   "cell_type": "code",
   "execution_count": null,
   "metadata": {
    "dotnet_interactive": {
     "language": "csharp"
    },
    "polyglot_notebook": {
     "kernelName": "csharp"
    }
   },
   "outputs": [],
   "source": [
    "using DataFilters.Expressions;\n",
    "\n",
    "string nicknameStartsWithBatQueryString = \"Nickname=bat*\";\n",
    "IFilter nicknameStartsWithBatFilter = nicknameStartsWithBatQueryString.ToFilter<Vigilante>();\n",
    "\n",
    "Console.WriteLine(nicknameStartsWithBatQueryString.ToFilter<Vigilante>());\n",
    "Console.WriteLine($\"C# Expression : {nicknameStartsWithBatFilter.ToExpression<Vigilante>()}\");"
   ]
  },
  {
   "cell_type": "markdown",
   "metadata": {},
   "source": [
    "### Ends with\n",
    "\n",
    "Search with vigilante which `Nickname` ends with `\"man\"`"
   ]
  },
  {
   "cell_type": "code",
   "execution_count": null,
   "metadata": {
    "dotnet_interactive": {
     "language": "csharp"
    },
    "polyglot_notebook": {
     "kernelName": "csharp"
    }
   },
   "outputs": [],
   "source": [
    "using DataFilters.Expressions;\n",
    "\n",
    "string nicknameEndsWithManQueryString = \"Nickname=*man\";\n",
    "IFilter nicknameEndsWithManFilter = nicknameEndsWithManQueryString.ToFilter<Vigilante>();\n",
    "\n",
    "Console.WriteLine(nicknameEndsWithManQueryString.ToFilter<Vigilante>());\n",
    "Console.WriteLine($\"C# Expression : {nicknameEndsWithManFilter.ToExpression<Vigilante>()}\");"
   ]
  },
  {
   "cell_type": "markdown",
   "metadata": {},
   "source": [
    "### Contains\n",
    "\n",
    "Search for vigilante whose `name` contains man"
   ]
  },
  {
   "cell_type": "code",
   "execution_count": null,
   "metadata": {
    "dotnet_interactive": {
     "language": "csharp"
    },
    "polyglot_notebook": {
     "kernelName": "csharp"
    }
   },
   "outputs": [],
   "source": [
    "using DataFilters.Expressions;\n",
    "\n",
    "string nicknameContainsManQueryString = \"Nickname=*man*\";\n",
    "IFilter nicknameContainsManFilter = nicknameContainsManQueryString.ToFilter<Vigilante>();\n",
    "\n",
    "Console.WriteLine(nicknameContainsManQueryString.ToFilter<Vigilante>());\n",
    "Console.WriteLine($\"C# Expression : {nicknameContainsManFilter.ToExpression<Vigilante>()}\");"
   ]
  },
  {
   "cell_type": "markdown",
   "metadata": {},
   "source": [
    "💡 `contains` operator also work on arrays."
   ]
  },
  {
   "cell_type": "code",
   "execution_count": null,
   "metadata": {
    "dotnet_interactive": {
     "language": "csharp"
    },
    "polyglot_notebook": {
     "kernelName": "csharp"
    }
   },
   "outputs": [],
   "source": [
    "using DataFilters.Expressions;\n",
    "\n",
    "string vigilanteWithSuperStrengthManQueryString = \"Powers=*strength*\";\n",
    "IFilter vigilanteWithSuperStrengthManFilter = vigilanteWithSuperStrengthManQueryString.ToFilter<Vigilante>();\n",
    "\n",
    "Console.WriteLine(vigilanteWithSuperStrengthManQueryString.ToFilter<Vigilante>());\n",
    "Console.WriteLine($\"C# Expression : {vigilanteWithSuperStrengthManFilter.ToExpression<Vigilante>()}\");"
   ]
  },
  {
   "cell_type": "markdown",
   "metadata": {},
   "source": [
    "### Interval expressions\n",
    "\n",
    "Interval expressions are delimited by an upper and a lower bound syntax.\n",
    "\n",
    "The generic syntax is `<field> = <min> to <max>` with\n",
    "\n",
    "- `field` : the name of the property onto which the current interval expression will be applied\n",
    "- `min` : the lowest bound of the interval\n",
    "- `max` : the highest bound of the interval"
   ]
  },
  {
   "cell_type": "markdown",
   "metadata": {},
   "source": [
    "#### Greater than or equal to"
   ]
  },
  {
   "cell_type": "code",
   "execution_count": 97,
   "metadata": {
    "dotnet_interactive": {
     "language": "csharp"
    },
    "polyglot_notebook": {
     "kernelName": "csharp"
    }
   },
   "outputs": [
    {
     "name": "stdout",
     "output_type": "stream",
     "text": [
      "{\"field\":\"Age\",\"op\":\"gte\",\"value\":\"18\"}\n",
      "C# Expression : item => (item.Age >= 18)\n"
     ]
    }
   ],
   "source": [
    "using DataFilters.Expressions;\n",
    "\n",
    "string isOver18QueryString = \"Age=[18 TO *[\";\n",
    "IFilter isOver18Filter = isOver18QueryString.ToFilter<Vigilante>();\n",
    "\n",
    "Console.WriteLine(isOver18QueryString.ToFilter<Vigilante>());\n",
    "Console.WriteLine($\"C# Expression : {isOver18Filter.ToExpression<Vigilante>()}\");"
   ]
  },
  {
   "cell_type": "markdown",
   "metadata": {},
   "source": [
    "#### Less than or equal to"
   ]
  },
  {
   "cell_type": "code",
   "execution_count": 99,
   "metadata": {
    "dotnet_interactive": {
     "language": "csharp"
    },
    "polyglot_notebook": {
     "kernelName": "csharp"
    }
   },
   "outputs": [
    {
     "name": "stdout",
     "output_type": "stream",
     "text": [
      "{\"field\":\"Age\",\"op\":\"lte\",\"value\":\"40\"}\n",
      "C# Expression : item => (item.Age <= 40)\n"
     ]
    }
   ],
   "source": [
    "using DataFilters.Expressions;\n",
    "\n",
    "string isUnder40QueryString = \"Age=]* TO 40]\";\n",
    "IFilter isUnder40Filter = isUnder40QueryString.ToFilter<Vigilante>();\n",
    "\n",
    "Console.WriteLine(isUnder40QueryString.ToFilter<Vigilante>());\n",
    "Console.WriteLine($\"C# Expression : {isUnder40Filter.ToExpression<Vigilante>()}\");"
   ]
  },
  {
   "cell_type": "markdown",
   "metadata": {},
   "source": [
    "#### Between"
   ]
  },
  {
   "cell_type": "code",
   "execution_count": 100,
   "metadata": {
    "dotnet_interactive": {
     "language": "csharp"
    },
    "polyglot_notebook": {
     "kernelName": "csharp"
    }
   },
   "outputs": [
    {
     "name": "stdout",
     "output_type": "stream",
     "text": [
      "{\"logic\":\"and\",\"filters\":[{\"field\":\"Age\",\"op\":\"gte\",\"value\":\"18\"},{\"field\":\"Age\",\"op\":\"lte\",\"value\":\"40\"}]}\n",
      "C# Expression : Param_0 => ((Param_0.Age >= 18) AndAlso (Param_0.Age <= 40))\n"
     ]
    }
   ],
   "source": [
    "using DataFilters.Expressions;\n",
    "\n",
    "string isBetween18and40QueryString = \"Age=[18 TO 40]\";\n",
    "IFilter isBetween18and40Filter = isBetween18and40QueryString.ToFilter<Vigilante>();\n",
    "\n",
    "Console.WriteLine(isBetween18and40QueryString.ToFilter<Vigilante>());\n",
    "Console.WriteLine($\"C# Expression : {isBetween18and40Filter.ToExpression<Vigilante>()}\");"
   ]
  },
  {
   "cell_type": "markdown",
   "metadata": {},
   "source": [
    "💡 You can exclude the lower (respectively upper) bound by using `]` (resp. `[`). \n",
    "\n",
    "- `age=]20 TO 35[` means `age` strictly greater than `20` and strictly less than`35`\n",
    "- `age=[20 TO 35[` means `age` greater than or equal to `20` and strictly less than`35`\n",
    "- `age=]20 TO 35]` means `age` greater than `20` and less than or equal to `35`\n",
    "\n",
    "💡 Dates, times and durations must be specified in [ISO 8601 format](https://en.wikipedia.org/wiki/ISO_8601)\n",
    "\n",
    "Examples :\n",
    "- `]1998-10-26 TO 2000-12-10[`\n",
    "- `my/beautiful/api/search?date=]1998-10-26 10:00 TO 1998-10-26 10:00[`\n",
    "- `]1998-10-12T12:20:00 TO 13:30[` is equivalent to `]1998-10-12T12:20:00 TO 1998-10-12T13:30:00[`"
   ]
  },
  {
   "cell_type": "markdown",
   "metadata": {},
   "source": [
    "## How to use"
   ]
  },
  {
   "cell_type": "markdown",
   "metadata": {},
   "source": [
    "### On the client\n",
    "\n",
    "\n",
    "The client is responsible of building the request with the search criteria by following the syntax describe above"
   ]
  },
  {
   "cell_type": "code",
   "execution_count": 110,
   "metadata": {
    "dotnet_interactive": {
     "language": "javascript"
    },
    "polyglot_notebook": {
     "kernelName": "javascript"
    }
   },
   "outputs": [
    {
     "ename": "Error",
     "evalue": "URI is not defined",
     "output_type": "error",
     "traceback": [
      "URI is not defined"
     ]
    }
   ],
   "source": [
    "uri = new URI(\"https://my/wwonderful/api\");\n",
    "\n",
    "uri.setSearch(\n",
    "{\n",
    "    \"firstname\" : \"*e*\",\n",
    "    \"age\": \"]18 TO *[\",\n",
    "    \"powers\": \"!\\*\"\n",
    "});\n",
    "\n",
    "console.log(uri);"
   ]
  },
  {
   "cell_type": "markdown",
   "metadata": {},
   "source": [
    "### On the backend\n",
    "\n",
    "The backend is responsible of converting query string to [`IFilter`]()"
   ]
  },
  {
   "cell_type": "markdown",
   "metadata": {},
   "source": [
    "### Key benefits : a predictable syntax predictable\n",
    "\n",
    "The idea behind `DataFilters` was to provide a syntax that is consistent and easy to integrate with \n",
    "\n",
    "\n",
    "\n"
   ]
  },
  {
   "cell_type": "markdown",
   "metadata": {},
   "source": [
    "[class-multi-filter]: /src/DataFilters/MultiFilter.cs\n",
    "[class-ifilter]: /src/DataFilters/IFilter.cs\n",
    "[class-filter]: /src/DataFilters/Filter.cs\n",
    "[datafilters-expressions]: https://www.nuget.org/packages/DataFilters.Expressions\n",
    "[datafilters-queries]: https://www.nuget.org/packages/DataFilters.Queries"
   ]
  }
 ],
 "metadata": {
  "kernelspec": {
   "display_name": ".NET (C#)",
   "language": "C#",
   "name": ".net-csharp"
  },
  "language_info": {
   "name": "polyglot-notebook"
  },
  "polyglot_notebook": {
   "kernelInfo": {
    "defaultKernelName": "csharp",
    "items": [
     {
      "aliases": [],
      "languageName": "csharp",
      "name": "csharp"
     }
    ]
   }
  }
 },
 "nbformat": 4,
 "nbformat_minor": 2
}
